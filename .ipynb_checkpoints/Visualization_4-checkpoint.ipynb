{
 "cells": [
  {
   "cell_type": "markdown",
   "metadata": {},
   "source": [
    "## Is The Average Hall of Fame Baseball Player Better Than the Average Baseball Player Year Over Year?"
   ]
  },
  {
   "cell_type": "code",
   "execution_count": 1,
   "metadata": {
    "collapsed": true
   },
   "outputs": [],
   "source": [
    "import pandas as pd\n",
    "pd.options.display.max_columns = 500\n",
    "pd.options.display.max_rows = 500\n",
    "import matplotlib.pyplot as plt\n",
    "from bokeh.plotting import figure, output_file, show, ColumnDataSource\n",
    "from bokeh.models import Range1d, HoverTool, LabelSet, Label\n",
    "from bokeh.io import output_file, show\n",
    "from bokeh.layouts import gridplot\n"
   ]
  },
  {
   "cell_type": "code",
   "execution_count": 2,
   "metadata": {},
   "outputs": [
    {
     "ename": "FileNotFoundError",
     "evalue": "File b'../Pitching.csv' does not exist",
     "output_type": "error",
     "traceback": [
      "\u001b[1;31m---------------------------------------------------------------------------\u001b[0m",
      "\u001b[1;31mFileNotFoundError\u001b[0m                         Traceback (most recent call last)",
      "\u001b[1;32m<ipython-input-2-3607fd769689>\u001b[0m in \u001b[0;36m<module>\u001b[1;34m()\u001b[0m\n\u001b[0;32m      1\u001b[0m \u001b[1;31m# Reads in files\u001b[0m\u001b[1;33m\u001b[0m\u001b[1;33m\u001b[0m\u001b[0m\n\u001b[1;32m----> 2\u001b[1;33m \u001b[0mdf_pitching\u001b[0m \u001b[1;33m=\u001b[0m \u001b[0mpd\u001b[0m\u001b[1;33m.\u001b[0m\u001b[0mread_csv\u001b[0m\u001b[1;33m(\u001b[0m\u001b[1;34m\"../Pitching.csv\"\u001b[0m\u001b[1;33m)\u001b[0m\u001b[1;33m\u001b[0m\u001b[0m\n\u001b[0m\u001b[0;32m      3\u001b[0m \u001b[0mdf_batting\u001b[0m \u001b[1;33m=\u001b[0m \u001b[0mpd\u001b[0m\u001b[1;33m.\u001b[0m\u001b[0mread_csv\u001b[0m\u001b[1;33m(\u001b[0m\u001b[1;34m\"../Batting.csv\"\u001b[0m\u001b[1;33m)\u001b[0m\u001b[1;33m\u001b[0m\u001b[0m\n\u001b[0;32m      4\u001b[0m \u001b[0mdf_hof\u001b[0m \u001b[1;33m=\u001b[0m \u001b[0mpd\u001b[0m\u001b[1;33m.\u001b[0m\u001b[0mread_csv\u001b[0m\u001b[1;33m(\u001b[0m\u001b[1;34m\"../HallOfFame.csv\"\u001b[0m\u001b[1;33m)\u001b[0m\u001b[1;33m\u001b[0m\u001b[0m\n\u001b[0;32m      5\u001b[0m \u001b[0mdf_playerInfo\u001b[0m \u001b[1;33m=\u001b[0m \u001b[0mpd\u001b[0m\u001b[1;33m.\u001b[0m\u001b[0mread_csv\u001b[0m\u001b[1;33m(\u001b[0m\u001b[1;34m'../People.csv'\u001b[0m\u001b[1;33m)\u001b[0m\u001b[1;33m\u001b[0m\u001b[0m\n",
      "\u001b[1;32m~\\Anaconda3\\lib\\site-packages\\pandas\\io\\parsers.py\u001b[0m in \u001b[0;36mparser_f\u001b[1;34m(filepath_or_buffer, sep, delimiter, header, names, index_col, usecols, squeeze, prefix, mangle_dupe_cols, dtype, engine, converters, true_values, false_values, skipinitialspace, skiprows, nrows, na_values, keep_default_na, na_filter, verbose, skip_blank_lines, parse_dates, infer_datetime_format, keep_date_col, date_parser, dayfirst, iterator, chunksize, compression, thousands, decimal, lineterminator, quotechar, quoting, escapechar, comment, encoding, dialect, tupleize_cols, error_bad_lines, warn_bad_lines, skipfooter, skip_footer, doublequote, delim_whitespace, as_recarray, compact_ints, use_unsigned, low_memory, buffer_lines, memory_map, float_precision)\u001b[0m\n\u001b[0;32m    653\u001b[0m                     skip_blank_lines=skip_blank_lines)\n\u001b[0;32m    654\u001b[0m \u001b[1;33m\u001b[0m\u001b[0m\n\u001b[1;32m--> 655\u001b[1;33m         \u001b[1;32mreturn\u001b[0m \u001b[0m_read\u001b[0m\u001b[1;33m(\u001b[0m\u001b[0mfilepath_or_buffer\u001b[0m\u001b[1;33m,\u001b[0m \u001b[0mkwds\u001b[0m\u001b[1;33m)\u001b[0m\u001b[1;33m\u001b[0m\u001b[0m\n\u001b[0m\u001b[0;32m    656\u001b[0m \u001b[1;33m\u001b[0m\u001b[0m\n\u001b[0;32m    657\u001b[0m     \u001b[0mparser_f\u001b[0m\u001b[1;33m.\u001b[0m\u001b[0m__name__\u001b[0m \u001b[1;33m=\u001b[0m \u001b[0mname\u001b[0m\u001b[1;33m\u001b[0m\u001b[0m\n",
      "\u001b[1;32m~\\Anaconda3\\lib\\site-packages\\pandas\\io\\parsers.py\u001b[0m in \u001b[0;36m_read\u001b[1;34m(filepath_or_buffer, kwds)\u001b[0m\n\u001b[0;32m    403\u001b[0m \u001b[1;33m\u001b[0m\u001b[0m\n\u001b[0;32m    404\u001b[0m     \u001b[1;31m# Create the parser.\u001b[0m\u001b[1;33m\u001b[0m\u001b[1;33m\u001b[0m\u001b[0m\n\u001b[1;32m--> 405\u001b[1;33m     \u001b[0mparser\u001b[0m \u001b[1;33m=\u001b[0m \u001b[0mTextFileReader\u001b[0m\u001b[1;33m(\u001b[0m\u001b[0mfilepath_or_buffer\u001b[0m\u001b[1;33m,\u001b[0m \u001b[1;33m**\u001b[0m\u001b[0mkwds\u001b[0m\u001b[1;33m)\u001b[0m\u001b[1;33m\u001b[0m\u001b[0m\n\u001b[0m\u001b[0;32m    406\u001b[0m \u001b[1;33m\u001b[0m\u001b[0m\n\u001b[0;32m    407\u001b[0m     \u001b[1;32mif\u001b[0m \u001b[0mchunksize\u001b[0m \u001b[1;32mor\u001b[0m \u001b[0miterator\u001b[0m\u001b[1;33m:\u001b[0m\u001b[1;33m\u001b[0m\u001b[0m\n",
      "\u001b[1;32m~\\Anaconda3\\lib\\site-packages\\pandas\\io\\parsers.py\u001b[0m in \u001b[0;36m__init__\u001b[1;34m(self, f, engine, **kwds)\u001b[0m\n\u001b[0;32m    762\u001b[0m             \u001b[0mself\u001b[0m\u001b[1;33m.\u001b[0m\u001b[0moptions\u001b[0m\u001b[1;33m[\u001b[0m\u001b[1;34m'has_index_names'\u001b[0m\u001b[1;33m]\u001b[0m \u001b[1;33m=\u001b[0m \u001b[0mkwds\u001b[0m\u001b[1;33m[\u001b[0m\u001b[1;34m'has_index_names'\u001b[0m\u001b[1;33m]\u001b[0m\u001b[1;33m\u001b[0m\u001b[0m\n\u001b[0;32m    763\u001b[0m \u001b[1;33m\u001b[0m\u001b[0m\n\u001b[1;32m--> 764\u001b[1;33m         \u001b[0mself\u001b[0m\u001b[1;33m.\u001b[0m\u001b[0m_make_engine\u001b[0m\u001b[1;33m(\u001b[0m\u001b[0mself\u001b[0m\u001b[1;33m.\u001b[0m\u001b[0mengine\u001b[0m\u001b[1;33m)\u001b[0m\u001b[1;33m\u001b[0m\u001b[0m\n\u001b[0m\u001b[0;32m    765\u001b[0m \u001b[1;33m\u001b[0m\u001b[0m\n\u001b[0;32m    766\u001b[0m     \u001b[1;32mdef\u001b[0m \u001b[0mclose\u001b[0m\u001b[1;33m(\u001b[0m\u001b[0mself\u001b[0m\u001b[1;33m)\u001b[0m\u001b[1;33m:\u001b[0m\u001b[1;33m\u001b[0m\u001b[0m\n",
      "\u001b[1;32m~\\Anaconda3\\lib\\site-packages\\pandas\\io\\parsers.py\u001b[0m in \u001b[0;36m_make_engine\u001b[1;34m(self, engine)\u001b[0m\n\u001b[0;32m    983\u001b[0m     \u001b[1;32mdef\u001b[0m \u001b[0m_make_engine\u001b[0m\u001b[1;33m(\u001b[0m\u001b[0mself\u001b[0m\u001b[1;33m,\u001b[0m \u001b[0mengine\u001b[0m\u001b[1;33m=\u001b[0m\u001b[1;34m'c'\u001b[0m\u001b[1;33m)\u001b[0m\u001b[1;33m:\u001b[0m\u001b[1;33m\u001b[0m\u001b[0m\n\u001b[0;32m    984\u001b[0m         \u001b[1;32mif\u001b[0m \u001b[0mengine\u001b[0m \u001b[1;33m==\u001b[0m \u001b[1;34m'c'\u001b[0m\u001b[1;33m:\u001b[0m\u001b[1;33m\u001b[0m\u001b[0m\n\u001b[1;32m--> 985\u001b[1;33m             \u001b[0mself\u001b[0m\u001b[1;33m.\u001b[0m\u001b[0m_engine\u001b[0m \u001b[1;33m=\u001b[0m \u001b[0mCParserWrapper\u001b[0m\u001b[1;33m(\u001b[0m\u001b[0mself\u001b[0m\u001b[1;33m.\u001b[0m\u001b[0mf\u001b[0m\u001b[1;33m,\u001b[0m \u001b[1;33m**\u001b[0m\u001b[0mself\u001b[0m\u001b[1;33m.\u001b[0m\u001b[0moptions\u001b[0m\u001b[1;33m)\u001b[0m\u001b[1;33m\u001b[0m\u001b[0m\n\u001b[0m\u001b[0;32m    986\u001b[0m         \u001b[1;32melse\u001b[0m\u001b[1;33m:\u001b[0m\u001b[1;33m\u001b[0m\u001b[0m\n\u001b[0;32m    987\u001b[0m             \u001b[1;32mif\u001b[0m \u001b[0mengine\u001b[0m \u001b[1;33m==\u001b[0m \u001b[1;34m'python'\u001b[0m\u001b[1;33m:\u001b[0m\u001b[1;33m\u001b[0m\u001b[0m\n",
      "\u001b[1;32m~\\Anaconda3\\lib\\site-packages\\pandas\\io\\parsers.py\u001b[0m in \u001b[0;36m__init__\u001b[1;34m(self, src, **kwds)\u001b[0m\n\u001b[0;32m   1603\u001b[0m         \u001b[0mkwds\u001b[0m\u001b[1;33m[\u001b[0m\u001b[1;34m'allow_leading_cols'\u001b[0m\u001b[1;33m]\u001b[0m \u001b[1;33m=\u001b[0m \u001b[0mself\u001b[0m\u001b[1;33m.\u001b[0m\u001b[0mindex_col\u001b[0m \u001b[1;32mis\u001b[0m \u001b[1;32mnot\u001b[0m \u001b[1;32mFalse\u001b[0m\u001b[1;33m\u001b[0m\u001b[0m\n\u001b[0;32m   1604\u001b[0m \u001b[1;33m\u001b[0m\u001b[0m\n\u001b[1;32m-> 1605\u001b[1;33m         \u001b[0mself\u001b[0m\u001b[1;33m.\u001b[0m\u001b[0m_reader\u001b[0m \u001b[1;33m=\u001b[0m \u001b[0mparsers\u001b[0m\u001b[1;33m.\u001b[0m\u001b[0mTextReader\u001b[0m\u001b[1;33m(\u001b[0m\u001b[0msrc\u001b[0m\u001b[1;33m,\u001b[0m \u001b[1;33m**\u001b[0m\u001b[0mkwds\u001b[0m\u001b[1;33m)\u001b[0m\u001b[1;33m\u001b[0m\u001b[0m\n\u001b[0m\u001b[0;32m   1606\u001b[0m \u001b[1;33m\u001b[0m\u001b[0m\n\u001b[0;32m   1607\u001b[0m         \u001b[1;31m# XXX\u001b[0m\u001b[1;33m\u001b[0m\u001b[1;33m\u001b[0m\u001b[0m\n",
      "\u001b[1;32mpandas/_libs/parsers.pyx\u001b[0m in \u001b[0;36mpandas._libs.parsers.TextReader.__cinit__ (pandas\\_libs\\parsers.c:4209)\u001b[1;34m()\u001b[0m\n",
      "\u001b[1;32mpandas/_libs/parsers.pyx\u001b[0m in \u001b[0;36mpandas._libs.parsers.TextReader._setup_parser_source (pandas\\_libs\\parsers.c:8873)\u001b[1;34m()\u001b[0m\n",
      "\u001b[1;31mFileNotFoundError\u001b[0m: File b'../Pitching.csv' does not exist"
     ]
    }
   ],
   "source": [
    "# Reads in files\n",
    "df_pitching = pd.read_csv(\"../Pitching.csv\")\n",
    "df_batting = pd.read_csv(\"../Batting.csv\")\n",
    "df_hof = pd.read_csv(\"../HallOfFame.csv\")\n",
    "df_playerInfo = pd.read_csv('../People.csv')\n",
    "\n"
   ]
  },
  {
   "cell_type": "code",
   "execution_count": null,
   "metadata": {
    "collapsed": true
   },
   "outputs": [],
   "source": [
    "#Merges files \n",
    "batting = pd.merge(df_batting, df_playerInfo, on=\"playerID\")\n",
    "pitching = pd.merge(df_pitching, df_playerInfo, on=\"playerID\")\n",
    "\n",
    "hof_batting = pd.merge(df_hof,df_batting, on=\"playerID\")\n",
    "hof_pitching = pd.merge(df_hof,df_pitching, on=\"playerID\")\n",
    "\n",
    "hof_pitching_names = pd.merge(hof_pitching, df_playerInfo, on =\"playerID\")\n",
    "hof_batting_names = pd.merge(hof_batting,df_playerInfo, on=\"playerID\")\n"
   ]
  },
  {
   "cell_type": "code",
   "execution_count": null,
   "metadata": {
    "collapsed": true
   },
   "outputs": [],
   "source": [
    "#generates season and name columns\n",
    "pitching['season'] = pitching.groupby('playerID')['playerID'].transform('count')\n",
    "batting['season'] = batting.groupby('playerID')['playerID'].transform('count')\n",
    "\n",
    "pitching['name'] = pitching['nameFirst']+pitching['nameLast']\n",
    "batting['name'] = batting['nameFirst']+batting['nameLast']\n",
    "\n",
    "\n",
    "pitching = pitching.round(decimals=3);\n",
    "batting = batting.round(decimals=3);"
   ]
  },
  {
   "cell_type": "code",
   "execution_count": null,
   "metadata": {
    "collapsed": true
   },
   "outputs": [],
   "source": [
    "#generates batting average column\n",
    "batting['BA'] = batting['H']/batting['AB']"
   ]
  },
  {
   "cell_type": "code",
   "execution_count": null,
   "metadata": {
    "collapsed": true
   },
   "outputs": [],
   "source": [
    "# Drops all elements not player, inducted  = \"n\", and creates more season and names columns for different data frames \n",
    "hof_pitching_names = hof_pitching_names[hof_pitching_names.category == 'Player']\n",
    "hof_pitching_names = hof_pitching_names[hof_pitching_names.inducted != 'N']\n",
    "hof_pitching_names['season'] = hof_pitching_names.groupby('playerID')['playerID'].transform('count')\n",
    "hof_pitching_names['name'] = hof_pitching_names['nameFirst']+hof_batting_names['nameLast']\n",
    "hof_batting_names = hof_batting_names.round(decimals=3);"
   ]
  },
  {
   "cell_type": "code",
   "execution_count": null,
   "metadata": {
    "collapsed": true,
    "scrolled": false
   },
   "outputs": [],
   "source": [
    "# Drops all elements not player, inducted  = \"n\", and creates more season and names columns for different data frames \n",
    "\n",
    "hof_batting_names = hof_batting_names[hof_batting_names.category == 'Player']\n",
    "hof_batting_names = hof_batting_names[hof_batting_names.inducted != 'N']\n",
    "hof_batting_names['season'] = hof_batting_names.groupby('playerID')['playerID'].transform('count')\n",
    "hof_batting_names['name'] = hof_batting_names['nameFirst']+hof_batting_names['nameLast']\n",
    "hof_batting_names['BA'] = hof_batting_names['H']/hof_batting_names['AB']\n",
    "hof_batting_names = hof_batting_names.round(decimals=3);"
   ]
  },
  {
   "cell_type": "code",
   "execution_count": null,
   "metadata": {
    "collapsed": true
   },
   "outputs": [],
   "source": [
    "# Deletes unwanted columns\n",
    "columns = ['yearid','votedBy', 'ballots',\n",
    "          'needed','votes','inducted','category',\n",
    "           'needed_note', 'bats','throws',\n",
    "          'stint','teamID','lgID','birthYear',\n",
    "          'birthMonth','birthDay','birthCountry',\n",
    "          'birthState', 'birthCity','deathYear',\n",
    "          'deathMonth','deathDay','deathCountry',\n",
    "          'deathState','deathCity','nameGiven',\n",
    "          'debut','finalGame','retroID','bbrefID',\n",
    "           'nameFirst', 'nameLast', 'playerID','name'\n",
    "          ]\n",
    "hof_batting_names.drop(columns, inplace = True, axis =1)\n",
    "hof_pitching_names.drop(columns, inplace = True, axis =1)\n",
    "\n",
    "\n"
   ]
  },
  {
   "cell_type": "code",
   "execution_count": null,
   "metadata": {
    "collapsed": true
   },
   "outputs": [],
   "source": [
    "#Deletes unwanted columns\n",
    "columns = ['bats','throws',\n",
    "          'stint','teamID','lgID','birthYear',\n",
    "          'birthMonth','birthDay','birthCountry',\n",
    "          'birthState', 'birthCity','deathYear',\n",
    "          'deathMonth','deathDay','deathCountry',\n",
    "          'deathState','deathCity','nameGiven',\n",
    "          'debut','finalGame','retroID','bbrefID',\n",
    "           'nameFirst', 'nameLast', 'playerID','name'\n",
    "          ]\n",
    "pitching.drop(columns, inplace = True, axis =1)\n",
    "batting.drop(columns, inplace = True, axis =1)"
   ]
  },
  {
   "cell_type": "code",
   "execution_count": null,
   "metadata": {
    "collapsed": true
   },
   "outputs": [],
   "source": [
    "#fills nan values\n",
    "hof_batting_names = hof_batting_names.fillna(0)\n",
    "hof_pitching_names = hof_pitching_names.fillna(0)\n",
    "\n",
    "pitching = pitching.fillna(0)\n",
    "batting = batting.fillna(0)"
   ]
  },
  {
   "cell_type": "code",
   "execution_count": null,
   "metadata": {
    "collapsed": true
   },
   "outputs": [],
   "source": [
    "# does a groupby\n",
    "hof_batting_names = hof_batting_names.groupby([ 'yearID'], as_index = False).mean()\n",
    "hof_pitching_names = hof_pitching_names.groupby([ 'yearID'], as_index = False).mean()"
   ]
  },
  {
   "cell_type": "code",
   "execution_count": null,
   "metadata": {
    "collapsed": true
   },
   "outputs": [],
   "source": [
    "#does a groupby\n",
    "batting = batting.groupby([ 'yearID'], as_index = False).mean()\n",
    "pitching = pitching.groupby([ 'yearID'], as_index = False).mean()"
   ]
  },
  {
   "cell_type": "code",
   "execution_count": null,
   "metadata": {
    "collapsed": true
   },
   "outputs": [],
   "source": [
    "hof_pitching_names =  hof_pitching_names.round(decimals = 3)\n",
    "hof_batting_names =  hof_batting_names.round(decimals = 3);\n",
    "\n",
    "pitching = pitching.round(decimals = 3)\n",
    "batting = batting.round(decimals = 3);"
   ]
  },
  {
   "cell_type": "code",
   "execution_count": null,
   "metadata": {
    "collapsed": true
   },
   "outputs": [],
   "source": [
    "#sets ranges so x and y lengths match for grpahing\n",
    "batting = batting[batting.yearID < 2011]\n",
    "pitching = pitching[pitching.yearID < 2011]\n",
    "pitching = pitching[pitching.yearID > 1877]\n",
    "hof_pitching_names= hof_pitching_names[hof_pitching_names.yearID > 1877]\n",
    "hof_batting_names = hof_batting_names[hof_batting_names.yearID < 2011]\n",
    "hof_pitching_names = hof_pitching_names[hof_pitching_names.yearID < 2011]"
   ]
  },
  {
   "cell_type": "code",
   "execution_count": null,
   "metadata": {
    "collapsed": true
   },
   "outputs": [],
   "source": [
    "# initializes x and y coordinates for batting\n",
    "\n",
    "x_batting = list(range(1871,2011))\n",
    "\n",
    "\n",
    "y_hof_ba = hof_batting_names['BA']\n",
    "y_all_ba = batting['BA']\n",
    "\n",
    "y_hof_hr = hof_batting_names['HR']\n",
    "y_all_hr = batting['HR']\n",
    "\n",
    "y_hof_so = hof_batting_names['SO']\n",
    "y_all_so = batting['SO']\n",
    "\n",
    "y_hof_rbi = hof_batting_names['RBI']\n",
    "y_all_rbi = batting['RBI']\n",
    "\n",
    "y_hof_2B = hof_batting_names['2B']\n",
    "y_all_2B = batting['2B']\n",
    "\n",
    "y_hof_3B = hof_batting_names['3B']\n",
    "y_all_3B = batting['3B']"
   ]
  },
  {
   "cell_type": "code",
   "execution_count": null,
   "metadata": {
    "collapsed": true
   },
   "outputs": [],
   "source": [
    "#initializes x and y coordinates for grpahing \n",
    "x_pitching = list(range(1878,2011))\n",
    "\n",
    "y_hof_wins = hof_pitching_names['W']\n",
    "y_all_wins = pitching['W']\n",
    "\n",
    "y_hof_loss = hof_pitching_names['L']\n",
    "y_all_loss = pitching['L']\n",
    "\n",
    "y_hof_games = hof_pitching_names['G']\n",
    "y_all_games = pitching['G']\n",
    "\n",
    "y_hof_shutout = hof_pitching_names['SHO']\n",
    "y_all_shutout = pitching['SHO']\n",
    "\n",
    "y_hof_saves = hof_pitching_names['SV']\n",
    "y_all_saves = pitching['SV']\n",
    "\n",
    "y_hof_era = hof_pitching_names['ERA']\n",
    "y_all_era = pitching['ERA']\n",
    "\n",
    "y_hof_hbp = hof_pitching_names['HBP']\n",
    "y_all_hbp = pitching['HBP']\n",
    "\n",
    "y_hof_gidp = hof_pitching_names['GIDP']\n",
    "y_all_gidp = pitching['GIDP']"
   ]
  },
  {
   "cell_type": "code",
   "execution_count": null,
   "metadata": {
    "collapsed": true
   },
   "outputs": [],
   "source": [
    "output_file(\"AverageHOF_v_AverageAll.html\")"
   ]
  },
  {
   "cell_type": "code",
   "execution_count": null,
   "metadata": {
    "collapsed": true
   },
   "outputs": [],
   "source": [
    "\n",
    "#initializes hover attributes\n",
    "hover_ba= HoverTool(tooltips=[\n",
    "    (\"Average Batting Average\", \"@y\"), ('Year', '@x')\n",
    "])\n",
    "\n",
    "# Plots all 12 visuals\n",
    "b_ba = figure(title = 'Batting: Batting Average',plot_width=400, plot_height=400,background_fill_color = 'green', background_fill_alpha = 0.1, tools = [hover_ba])\n",
    "b_ba.title.align = 'center'\n",
    "b_ba.scatter(x_batting,y_hof_ba,legend = 'Hall Of Fame', size = 2, color= 'blue', alpha = 0.4)\n",
    "b_ba.scatter(x_batting,y_all_ba, legend = 'All Players', size = 2, color= 'gold', alpha = 0.4)\n",
    "b_ba.line(x_batting,y_hof_ba, color = 'blue', line_width = 1.7)\n",
    "b_ba.line(x_batting,y_all_ba, color = 'gold', line_width = 1.7)\n",
    "b_ba.y_range = Range1d(0, 0.5)\n",
    "b_ba.xaxis.axis_label = 'Year'\n",
    "b_ba.yaxis.axis_label = 'Batting Average'\n",
    "\n",
    "hover_hr = HoverTool(tooltips=[\n",
    "    (\"Average Number of Home Runs\", \"$y\"), ('Year', '@x')\n",
    "])\n",
    "b_hr = figure(title = 'Batting: Homeruns',plot_width=400, plot_height=400, tools = [hover_hr],  background_fill_color = 'green', background_fill_alpha = 0.1)\n",
    "b_hr.title.align = 'center'\n",
    "b_hr.scatter(x_batting,y_hof_hr, size = 2, color= 'blue', alpha = 0.4)\n",
    "b_hr.scatter(x_batting,y_all_hr, size = 2, color= 'gold', alpha = 0.4)\n",
    "b_hr.line(x_batting,y_hof_hr, color = 'blue', line_width = 1.7)\n",
    "b_hr.line(x_batting,y_all_hr, color = 'gold', line_width = 1.7)\n",
    "b_hr.y_range = Range1d(0, 20)\n",
    "b_hr.xaxis.axis_label = 'Year'\n",
    "b_hr.yaxis.axis_label = 'Home Runs'\n",
    "\n",
    "hover_so = HoverTool(tooltips=[\n",
    "    (\"Average Number of Strikouts\", \"@y\"), ('Year', '@x')])\n",
    "b_so = figure(title = 'Batting: Strikeouts',plot_width=400, plot_height=400, tools = [hover_so],  background_fill_color = 'green', background_fill_alpha = 0.1)\n",
    "b_so.title.align = 'center'\n",
    "b_so.scatter(x_batting,y_hof_so, size = 2, color= 'blue', alpha = 0.4)\n",
    "b_so.scatter(x_batting,y_all_so, size = 2, color= 'gold', alpha = 0.4)\n",
    "b_so.line(x_batting,y_hof_so, color = 'blue', line_width = 1.7)\n",
    "b_so.line(x_batting,y_all_so, color = 'gold', line_width = 1.7)\n",
    "\n",
    "b_so.y_range = Range1d(0, 100)\n",
    "b_so.xaxis.axis_label = 'Year'\n",
    "b_so.yaxis.axis_label = 'Strike Outs'\n",
    "\n",
    "hover_rbi = HoverTool(tooltips=[\n",
    "    (\"Average Number of Runs Batted In\", \"@y\"), ('Year', '@x')])\n",
    "b_rbi = figure(title = 'Batting: RBI',plot_width=400, plot_height=400, tools = [hover_rbi],  background_fill_color = 'green', background_fill_alpha = 0.1)\n",
    "b_rbi.title.align = 'center'\n",
    "b_rbi.scatter(x_batting,y_hof_rbi, size = 2, color= 'blue', alpha = 0.4)\n",
    "b_rbi.scatter(x_batting,y_all_rbi, size = 2, color= 'gold', alpha = 0.4)\n",
    "b_rbi.line(x_batting,y_hof_rbi,  color = 'blue', line_width = 1.7)\n",
    "b_rbi.line(x_batting,y_all_rbi, color = 'gold', line_width = 1.7)\n",
    "b_rbi.y_range = Range1d(0, 100)\n",
    "b_rbi.xaxis.axis_label = 'Year'\n",
    "b_rbi.yaxis.axis_label = 'Runs Batted In'\n",
    "\n",
    "hover_2B = HoverTool(tooltips=[\n",
    "    (\"Average Number of Doubles\", \"@y\"), ('Year', '@x')])\n",
    "b_2B = figure(title = 'Batting: Doubles',plot_width=400, plot_height=400, tools = [hover_2B],  background_fill_color = 'green', background_fill_alpha = 0.1)\n",
    "b_2B.title.align = 'center'\n",
    "b_2B.scatter(x_batting,y_hof_2B, size = 2, color= 'blue', alpha = 0.4)\n",
    "b_2B.scatter(x_batting,y_all_2B, size = 2, color= 'gold', alpha = 0.4)\n",
    "b_2B.line(x_batting,y_hof_2B,  color = 'blue', line_width = 1.7)\n",
    "b_2B.line(x_batting,y_all_2B, color = 'gold', line_width = 1.7)\n",
    "b_2B.y_range = Range1d(0, 50)\n",
    "b_2B.xaxis.axis_label = 'Year'\n",
    "b_2B.yaxis.axis_label = 'Doubles'\n",
    "\n",
    "hover_3B = HoverTool(tooltips=[\n",
    "    (\"Average Number of Triples\", \"@y\"), ('Year', '@x')])\n",
    "b_3B = figure(title = 'Batting: Triples',plot_width=400, plot_height=400, tools = [hover_3B],  background_fill_color = 'green', background_fill_alpha = 0.1)\n",
    "b_3B.title.align = 'center'\n",
    "b_3B.scatter(x_batting,y_hof_3B,size = 2, color= 'blue', alpha = 0.4)\n",
    "b_3B.scatter(x_batting,y_all_3B, size = 2, color= 'gold', alpha = 0.4)\n",
    "b_3B.line(x_batting,y_hof_3B, color = 'blue', line_width = 1.7)\n",
    "b_3B.line(x_batting,y_all_3B, color = 'gold', line_width = 1.7)\n",
    "b_3B.y_range = Range1d(0, 50)\n",
    "b_3B.xaxis.axis_label = 'Year'\n",
    "b_3B.yaxis.axis_label = 'Triples'\n",
    "\n",
    "\n",
    "hover_wins = HoverTool(tooltips=[\n",
    "    (\"Average Number of Wins\", \"@y\"), ('Year', '@x')])\n",
    "b_wins = figure(title = 'Pitching: Wins',plot_width=400, plot_height=400, tools = [hover_wins],  background_fill_color = 'green', background_fill_alpha = 0.1)\n",
    "b_wins.title.align = 'center'\n",
    "b_wins.scatter(x_pitching,y_hof_wins, legend = 'Hall Of Fame', size = 2, color= 'brown', alpha = 0.4)\n",
    "b_wins.scatter(x_pitching,y_all_wins, legend = 'All Players', size = 2, color= 'orange', alpha = 0.4)\n",
    "b_wins.line(x_pitching,y_hof_wins,  color = 'brown', line_width = 1.7)\n",
    "b_wins.line(x_pitching,y_all_wins, color = 'orange', line_width = 1.7)\n",
    "b_wins.y_range = Range1d(0, 50)\n",
    "b_wins.xaxis.axis_label = 'Year'\n",
    "b_wins.yaxis.axis_label = 'Wins'\n",
    "\n",
    "hover_loss = HoverTool(tooltips=[\n",
    "    (\"Average Number of Losses\", \"@y\"), ('Year', '@x')])\n",
    "b_loss = figure(title = 'Pitching: Losses',plot_width=400, plot_height=400, tools = [hover_loss],  background_fill_color = 'green', background_fill_alpha = 0.1)\n",
    "b_loss.title.align = 'center'\n",
    "b_loss.scatter(x_pitching,y_hof_loss, size = 2, color= 'brown', alpha = 0.4)\n",
    "b_loss.scatter(x_pitching,y_all_loss, size = 2, color= 'orange', alpha = 0.4)\n",
    "b_loss.line(x_pitching,y_hof_loss,  color = 'brown', line_width = 1.7)\n",
    "b_loss.line(x_pitching,y_all_loss, color = 'orange', line_width = 1.7)\n",
    "b_loss.y_range = Range1d(0, 50)\n",
    "b_loss.xaxis.axis_label = 'Year'\n",
    "b_loss.yaxis.axis_label = 'Losses'\n",
    "\n",
    "hover_saves = HoverTool(tooltips=[\n",
    "    (\"Average Number of Saves\", \"@y\"), ('Year', '@x')])\n",
    "b_saves = figure(title = 'Pitching: Saves',plot_width=400, plot_height=400, tools = [hover_saves],  background_fill_color = 'green', background_fill_alpha = 0.1)\n",
    "b_saves.title.align = 'center'\n",
    "b_saves.scatter(x_pitching,y_hof_loss, size = 2, color= 'brown', alpha = 0.4)\n",
    "b_saves.scatter(x_pitching,y_all_loss, size = 2, color= 'orange', alpha = 0.4)\n",
    "b_saves.line(x_pitching,y_hof_loss,  color = 'brown', line_width = 1.7)\n",
    "b_saves.line(x_pitching,y_all_loss, color = 'orange', line_width = 1.7)\n",
    "b_saves.y_range = Range1d(0, 50)\n",
    "b_saves.xaxis.axis_label = 'Year'\n",
    "b_saves.yaxis.axis_label = 'Saves'\n",
    "\n",
    "hover_era = HoverTool(tooltips=[\n",
    "    (\"Average Earned Runs Against\", \"@y\"), ('Year', '@x')])\n",
    "b_era = figure(title = 'Pitching: ERA',plot_width=400, plot_height=400, tools = [hover_era],  background_fill_color = 'green', background_fill_alpha = 0.1)\n",
    "b_era.title.align = 'center'\n",
    "b_era.scatter(x_pitching,y_hof_era, size = 2, color= 'brown', alpha = 0.4)\n",
    "b_era.scatter(x_pitching,y_all_era, size = 2, color= 'orange', alpha = 0.4)\n",
    "b_era.line(x_pitching,y_hof_era,  color = 'brown', line_width = 1.7)\n",
    "b_era.line(x_pitching,y_all_era, color = 'orange', line_width = 1.7)\n",
    "b_era.y_range = Range1d(0, 20)\n",
    "b_era.xaxis.axis_label = 'Year'\n",
    "b_era.yaxis.axis_label = 'ERA'\n",
    "\n",
    "hover_games = HoverTool(tooltips=[\n",
    "    ('Average Number of Individual Games Pitched', \"@y\"),('Year', '@x')])\n",
    "b_games = figure(title = 'Pitching: Games Played',plot_width=400, plot_height=400, tools = [hover_games],  background_fill_color = 'green', background_fill_alpha = 0.1)\n",
    "b_games.title.align = 'center'\n",
    "b_games.scatter(x_pitching,y_hof_games, size = 2, color= 'brown', alpha = 0.4)\n",
    "b_games.scatter(x_pitching,y_all_games, size = 2, color= 'orange', alpha = 0.4)\n",
    "b_games.line(x_pitching,y_hof_games,  color = 'brown', line_width = 1.7)\n",
    "b_games.line(x_pitching,y_all_games, color = 'orange', line_width = 1.7)\n",
    "b_games.y_range = Range1d(0, 50)\n",
    "b_games.xaxis.axis_label = 'Year'\n",
    "b_games.yaxis.axis_label = 'Games Played'\n",
    "\n",
    "hover_shutout = HoverTool(tooltips=[\n",
    "    (\"Average Number of Shutout Games Pitched\", \"@y\"),\n",
    "('Year', '@x')])\n",
    "b_shutout = figure(title = 'Pitching: Shutouts',plot_width=400, plot_height=400, tools = [hover_shutout],  background_fill_color = 'green', background_fill_alpha = 0.1)\n",
    "b_shutout.title.align = 'center'\n",
    "b_shutout.scatter(x_pitching,y_hof_shutout, size = 2, color= 'brown', alpha = 0.4)\n",
    "b_shutout.scatter(x_pitching,y_all_shutout, size = 2, color= 'orange', alpha = 0.4)\n",
    "b_shutout.line(x_pitching,y_hof_shutout,  color = 'brown', line_width = 1.7)\n",
    "b_shutout.line(x_pitching,y_all_shutout, color = 'orange', line_width = 1.7)\n",
    "b_shutout.y_range = Range1d(0, 20)\n",
    "b_shutout.xaxis.axis_label = 'Year'\n",
    "b_shutout.yaxis.axis_label = 'Shutouts'\n",
    "\n",
    "\n",
    "b = gridplot([[b_ba, b_rbi, b_so],[b_2B, b_3B,b_hr],[b_wins,b_loss, b_era],[b_saves,b_games,b_shutout]],  background_fill_color = 'green', background_fill_alpha = 0.1)\n",
    "\n",
    "show(b)\n",
    "\n"
   ]
  },
  {
   "cell_type": "code",
   "execution_count": null,
   "metadata": {
    "collapsed": true
   },
   "outputs": [],
   "source": []
  }
 ],
 "metadata": {
  "kernelspec": {
   "display_name": "Python 3",
   "language": "python",
   "name": "python3"
  }
 },
 "nbformat": 4,
 "nbformat_minor": 2
}
